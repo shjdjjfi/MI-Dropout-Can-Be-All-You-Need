{
 "cells": [
  {
   "cell_type": "code",
   "execution_count": 2,
   "id": "210bdd50-eef0-4a07-85cb-2f864977584d",
   "metadata": {
    "tags": []
   },
   "outputs": [
    {
     "name": "stdout",
     "output_type": "stream",
     "text": [
      "/root/autodl-tmp/Dropout复现/CIFAR100-比对\n"
     ]
    }
   ],
   "source": [
    "cd CIFAR100-比对/"
   ]
  },
  {
   "cell_type": "code",
   "execution_count": 1,
   "id": "aee51d12-b3a4-4dc7-bc11-c64b18a43336",
   "metadata": {
    "tags": []
   },
   "outputs": [
    {
     "name": "stdout",
     "output_type": "stream",
     "text": [
      "[1,100] loss:2.273\n",
      "[1,200] loss:2.224\n",
      "[1,300] loss:2.192\n",
      "[1,400] loss:2.181\n",
      "[1,500] loss:2.172\n",
      "[2,100] loss:2.151\n",
      "[2,200] loss:2.155\n",
      "[2,300] loss:2.143\n",
      "[2,400] loss:2.134\n",
      "[2,500] loss:2.147\n",
      "[3,100] loss:2.133\n",
      "[3,200] loss:2.127\n",
      "[3,300] loss:2.135\n",
      "[3,400] loss:2.136\n",
      "[3,500] loss:2.123\n",
      "[4,100] loss:2.131\n",
      "[4,200] loss:2.131\n",
      "[4,300] loss:2.123\n",
      "[4,400] loss:2.124\n",
      "[4,500] loss:2.115\n",
      "[5,100] loss:2.112\n",
      "[5,200] loss:2.122\n",
      "[5,300] loss:2.117\n",
      "[5,400] loss:2.124\n",
      "[5,500] loss:2.112\n",
      "[6,100] loss:2.117\n",
      "[6,200] loss:2.110\n",
      "[6,300] loss:2.113\n",
      "[6,400] loss:2.116\n",
      "[6,500] loss:2.115\n",
      "[7,100] loss:2.111\n",
      "[7,200] loss:2.109\n",
      "[7,300] loss:2.106\n",
      "[7,400] loss:2.111\n",
      "[7,500] loss:2.104\n",
      "[8,100] loss:2.108\n",
      "[8,200] loss:2.108\n",
      "[8,300] loss:2.101\n",
      "[8,400] loss:2.103\n",
      "[8,500] loss:2.104\n",
      "[9,100] loss:2.101\n",
      "[9,200] loss:2.105\n",
      "[9,300] loss:2.102\n",
      "[9,400] loss:2.104\n",
      "[9,500] loss:2.093\n",
      "[10,100] loss:2.100\n",
      "[10,200] loss:2.096\n",
      "[10,300] loss:2.103\n",
      "[10,400] loss:2.107\n",
      "[10,500] loss:2.088\n",
      "correct1:  tensor(3511, device='cuda:0')\n",
      "Test acc: 0.3511\n"
     ]
    }
   ],
   "source": [
    "!python basic.py --method Dropouut --epoch 10"
   ]
  },
  {
   "cell_type": "code",
   "execution_count": 5,
   "id": "4018bc7b-dd7c-42e8-8f16-dcf1f94a6edd",
   "metadata": {
    "tags": []
   },
   "outputs": [
    {
     "name": "stdout",
     "output_type": "stream",
     "text": [
      "[1,100] loss:4.590\n",
      "[1,200] loss:4.576\n",
      "[1,300] loss:4.571\n",
      "[1,400] loss:4.571\n",
      "[1,500] loss:4.569\n",
      "[2,100] loss:4.564\n",
      "[2,200] loss:4.563\n",
      "[2,300] loss:4.562\n",
      "[2,400] loss:4.565\n",
      "[2,500] loss:4.563\n",
      "[3,100] loss:4.563\n",
      "[3,200] loss:4.563\n",
      "[3,300] loss:4.560\n",
      "[3,400] loss:4.567\n",
      "[3,500] loss:4.564\n",
      "[4,100] loss:4.559\n",
      "[4,200] loss:4.562\n",
      "[4,300] loss:4.561\n",
      "[4,400] loss:4.558\n",
      "[4,500] loss:4.565\n",
      "[5,100] loss:4.561\n",
      "[5,200] loss:4.558\n",
      "[5,300] loss:4.554\n",
      "[5,400] loss:4.558\n",
      "[5,500] loss:4.557\n",
      "[6,100] loss:4.556\n",
      "[6,200] loss:4.555\n",
      "[6,300] loss:4.552\n",
      "[6,400] loss:4.563\n",
      "[6,500] loss:4.563\n",
      "[7,100] loss:4.553\n",
      "[7,200] loss:4.555\n",
      "[7,300] loss:4.559\n",
      "[7,400] loss:4.557\n",
      "[7,500] loss:4.559\n",
      "[8,100] loss:4.556\n",
      "[8,200] loss:4.558\n",
      "[8,300] loss:4.557\n",
      "[8,400] loss:4.553\n",
      "[8,500] loss:4.553\n",
      "[9,100] loss:4.554\n",
      "[9,200] loss:4.556\n",
      "[9,300] loss:4.557\n",
      "[9,400] loss:4.555\n",
      "[9,500] loss:4.557\n",
      "[10,100] loss:4.560\n",
      "[10,200] loss:4.557\n",
      "[10,300] loss:4.555\n",
      "[10,400] loss:4.557\n",
      "[10,500] loss:4.558\n",
      "correct1:  tensor(656, device='cuda:0')\n",
      "Test acc: 0.0656\n"
     ]
    }
   ],
   "source": [
    "!python basic.py --method AlphaDropouut --epoch 10"
   ]
  },
  {
   "cell_type": "code",
   "execution_count": 6,
   "id": "91078800-2ad5-48c1-b453-a37e9dbfdce9",
   "metadata": {
    "tags": []
   },
   "outputs": [
    {
     "name": "stdout",
     "output_type": "stream",
     "text": [
      "[1,100] loss:4.594\n",
      "[1,200] loss:4.592\n",
      "[1,300] loss:4.591\n",
      "[1,400] loss:4.590\n",
      "[1,500] loss:4.593\n",
      "[2,100] loss:4.591\n",
      "[2,200] loss:4.593\n",
      "[2,300] loss:4.593\n",
      "[2,400] loss:4.592\n",
      "[2,500] loss:4.602\n",
      "[3,100] loss:4.597\n",
      "[3,200] loss:4.593\n",
      "[3,300] loss:4.593\n",
      "[3,400] loss:4.593\n",
      "[3,500] loss:4.590\n",
      "[4,100] loss:4.593\n",
      "[4,200] loss:4.593\n",
      "[4,300] loss:4.592\n",
      "[4,400] loss:4.594\n",
      "[4,500] loss:4.596\n",
      "[5,100] loss:4.596\n",
      "[5,200] loss:4.600\n",
      "[5,300] loss:4.596\n",
      "[5,400] loss:4.597\n",
      "[5,500] loss:4.593\n",
      "[6,100] loss:4.598\n",
      "[6,200] loss:4.599\n",
      "[6,300] loss:4.596\n",
      "[6,400] loss:4.597\n",
      "[6,500] loss:4.597\n",
      "[7,100] loss:4.592\n",
      "[7,200] loss:4.596\n",
      "[7,300] loss:4.594\n",
      "[7,400] loss:4.597\n",
      "[7,500] loss:4.596\n",
      "[8,100] loss:4.592\n",
      "[8,200] loss:4.594\n",
      "[8,300] loss:4.598\n",
      "[8,400] loss:4.595\n",
      "[8,500] loss:4.597\n",
      "[9,100] loss:4.593\n",
      "[9,200] loss:4.595\n",
      "[9,300] loss:4.598\n",
      "[9,400] loss:4.598\n",
      "[9,500] loss:4.595\n",
      "[10,100] loss:4.595\n",
      "[10,200] loss:4.596\n",
      "[10,300] loss:4.596\n",
      "[10,400] loss:4.601\n",
      "[10,500] loss:4.601\n",
      "correct1:  tensor(256, device='cuda:0')\n",
      "Test acc: 0.0256\n"
     ]
    }
   ],
   "source": [
    "!python basic.py --method GaussianDropout --epoch 10"
   ]
  },
  {
   "cell_type": "code",
   "execution_count": null,
   "id": "8fc4f0e8-a0cc-4152-977b-1435aa448593",
   "metadata": {},
   "outputs": [],
   "source": []
  }
 ],
 "metadata": {
  "kernelspec": {
   "display_name": "Python 3 (ipykernel)",
   "language": "python",
   "name": "python3"
  },
  "language_info": {
   "codemirror_mode": {
    "name": "ipython",
    "version": 3
   },
   "file_extension": ".py",
   "mimetype": "text/x-python",
   "name": "python",
   "nbconvert_exporter": "python",
   "pygments_lexer": "ipython3",
   "version": "3.8.10"
  }
 },
 "nbformat": 4,
 "nbformat_minor": 5
}
